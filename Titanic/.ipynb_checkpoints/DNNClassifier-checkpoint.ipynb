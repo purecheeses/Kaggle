{
 "cells": [
  {
   "cell_type": "code",
   "execution_count": 2,
   "metadata": {},
   "outputs": [],
   "source": [
    "import pandas as pd\n",
    "import numpy as np\n",
    "import random as rnd\n",
    "\n",
    "import seaborn as sns\n",
    "import matplotlib.pyplot as plt\n",
    "%matplotlib inline\n",
    "from CleanData import train_df,test_df\n",
    "\n",
    "import tensorflow as tf\n",
    "import numpy as np \n",
    "from sklearn import metrics"
   ]
  },
  {
   "cell_type": "code",
   "execution_count": 32,
   "metadata": {},
   "outputs": [
    {
     "data": {
      "text/plain": [
       "((891, 8), (891,), (418, 8))"
      ]
     },
     "execution_count": 32,
     "metadata": {},
     "output_type": "execute_result"
    }
   ],
   "source": [
    "X_train = train_df.drop(\"Survived\", axis=1).as_matrix()\n",
    "Y_train = train_df[\"Survived\"].as_matrix()\n",
    "X_test  = test_df.drop(\"PassengerId\", axis=1).copy()\n",
    "X_train.shape, Y_train.shape, X_test.shape\n"
   ]
  },
  {
   "cell_type": "code",
   "execution_count": 44,
   "metadata": {},
   "outputs": [
    {
     "name": "stdout",
     "output_type": "stream",
     "text": [
      "INFO:tensorflow:Using default config.\n",
      "WARNING:tensorflow:Using temporary folder as model directory: /var/folders/k6/3cfh6bpj7399mk7dlg95fzqc0000gn/T/tmpgbtg_zku\n",
      "INFO:tensorflow:Using config: {'_num_worker_replicas': 0, '_model_dir': '/var/folders/k6/3cfh6bpj7399mk7dlg95fzqc0000gn/T/tmpgbtg_zku', '_session_config': None, '_cluster_spec': <tensorflow.python.training.server_lib.ClusterSpec object at 0x110886390>, '_keep_checkpoint_every_n_hours': 10000, '_tf_random_seed': None, '_environment': 'local', '_master': '', '_evaluation_master': '', '_save_checkpoints_secs': 600, '_num_ps_replicas': 0, '_keep_checkpoint_max': 5, '_tf_config': gpu_options {\n",
      "  per_process_gpu_memory_fraction: 1.0\n",
      "}\n",
      ", '_save_summary_steps': 100, '_is_chief': True, '_task_type': None, '_task_id': 0, '_save_checkpoints_steps': None, '_log_step_count_steps': 100}\n"
     ]
    }
   ],
   "source": [
    "feature_columns = [tf.contrib.layers.real_valued_column(\"\", dimension=8)]\n",
    "classifier = tf.contrib.learn.DNNClassifier(feature_columns=feature_columns,\n",
    "                                              hidden_units=[1024, 500, 50],\n",
    "                                              n_classes=2)"
   ]
  },
  {
   "cell_type": "code",
   "execution_count": 45,
   "metadata": {},
   "outputs": [
    {
     "name": "stdout",
     "output_type": "stream",
     "text": [
      "WARNING:tensorflow:Casting <dtype: 'int64'> labels to bool.\n",
      "WARNING:tensorflow:Casting <dtype: 'int64'> labels to bool.\n",
      "INFO:tensorflow:Create CheckpointSaverHook.\n",
      "INFO:tensorflow:Saving checkpoints for 1 into /var/folders/k6/3cfh6bpj7399mk7dlg95fzqc0000gn/T/tmpgbtg_zku/model.ckpt.\n",
      "INFO:tensorflow:step = 1, loss = 0.878642\n",
      "INFO:tensorflow:global_step/sec: 20.6259\n",
      "INFO:tensorflow:step = 101, loss = 0.443369 (4.851 sec)\n",
      "INFO:tensorflow:global_step/sec: 20.1677\n",
      "INFO:tensorflow:step = 201, loss = 0.418277 (4.958 sec)\n",
      "INFO:tensorflow:global_step/sec: 18.1876\n",
      "INFO:tensorflow:step = 301, loss = 0.40404 (5.499 sec)\n",
      "INFO:tensorflow:global_step/sec: 18.2899\n",
      "INFO:tensorflow:step = 401, loss = 0.396778 (5.468 sec)\n",
      "INFO:tensorflow:global_step/sec: 17.3956\n",
      "INFO:tensorflow:step = 501, loss = 0.391127 (5.750 sec)\n",
      "INFO:tensorflow:global_step/sec: 18.4806\n",
      "INFO:tensorflow:step = 601, loss = 0.384976 (5.409 sec)\n",
      "INFO:tensorflow:global_step/sec: 18.9443\n",
      "INFO:tensorflow:step = 701, loss = 0.374531 (5.279 sec)\n",
      "INFO:tensorflow:global_step/sec: 19.7994\n",
      "INFO:tensorflow:step = 801, loss = 0.370267 (5.051 sec)\n",
      "INFO:tensorflow:global_step/sec: 19.9071\n",
      "INFO:tensorflow:step = 901, loss = 0.365563 (5.024 sec)\n",
      "INFO:tensorflow:global_step/sec: 19.9351\n",
      "INFO:tensorflow:step = 1001, loss = 0.362428 (5.016 sec)\n",
      "INFO:tensorflow:global_step/sec: 20.0076\n",
      "INFO:tensorflow:step = 1101, loss = 0.364358 (4.998 sec)\n",
      "INFO:tensorflow:global_step/sec: 20.2559\n",
      "INFO:tensorflow:step = 1201, loss = 0.362535 (4.937 sec)\n",
      "INFO:tensorflow:global_step/sec: 19.9668\n",
      "INFO:tensorflow:step = 1301, loss = 0.351112 (5.008 sec)\n",
      "INFO:tensorflow:global_step/sec: 20.884\n",
      "INFO:tensorflow:step = 1401, loss = 0.347547 (4.788 sec)\n",
      "INFO:tensorflow:global_step/sec: 20.85\n",
      "INFO:tensorflow:step = 1501, loss = 0.341412 (4.797 sec)\n",
      "INFO:tensorflow:global_step/sec: 19.7392\n",
      "INFO:tensorflow:step = 1601, loss = 0.338358 (5.066 sec)\n",
      "INFO:tensorflow:global_step/sec: 21.2787\n",
      "INFO:tensorflow:step = 1701, loss = 0.343102 (4.699 sec)\n",
      "INFO:tensorflow:global_step/sec: 21.4656\n",
      "INFO:tensorflow:step = 1801, loss = 0.334244 (4.659 sec)\n",
      "INFO:tensorflow:global_step/sec: 20.7452\n",
      "INFO:tensorflow:step = 1901, loss = 0.340256 (4.820 sec)\n",
      "INFO:tensorflow:Saving checkpoints for 2000 into /var/folders/k6/3cfh6bpj7399mk7dlg95fzqc0000gn/T/tmpgbtg_zku/model.ckpt.\n",
      "INFO:tensorflow:Loss for final step: 0.337705.\n"
     ]
    }
   ],
   "source": [
    "def get_train_inputs():\n",
    "    x = tf.constant(X_train)\n",
    "    y = tf.constant(Y_train)\n",
    "    return x, y\n",
    "def train():\n",
    "    classifier.fit(input_fn=get_train_inputs, steps=2000)\n",
    "\n",
    "train()"
   ]
  },
  {
   "cell_type": "code",
   "execution_count": 46,
   "metadata": {},
   "outputs": [
    {
     "name": "stdout",
     "output_type": "stream",
     "text": [
      "WARNING:tensorflow:Casting <dtype: 'int64'> labels to bool.\n",
      "WARNING:tensorflow:Casting <dtype: 'int64'> labels to bool.\n",
      "INFO:tensorflow:Starting evaluation at 2018-01-17-07:02:41\n",
      "INFO:tensorflow:Restoring parameters from /var/folders/k6/3cfh6bpj7399mk7dlg95fzqc0000gn/T/tmpgbtg_zku/model.ckpt-2000\n",
      "INFO:tensorflow:Evaluation [1/1]\n",
      "INFO:tensorflow:Finished evaluation at 2018-01-17-07:02:42\n",
      "INFO:tensorflow:Saving dict for global step 2000: accuracy = 0.851852, accuracy/baseline_label_mean = 0.383838, accuracy/threshold_0.500000_mean = 0.851852, auc = 0.921702, auc_precision_recall = 0.906913, global_step = 2000, labels/actual_label_mean = 0.383838, labels/prediction_mean = 0.333358, loss = 0.340652, precision/positive_threshold_0.500000_mean = 0.92, recall/positive_threshold_0.500000_mean = 0.672515\n",
      "accuracy: 0.851852\n"
     ]
    }
   ],
   "source": [
    "accuracy_score = classifier.evaluate(input_fn=get_train_inputs,\n",
    "                                       steps=1)[\"accuracy\"]\n",
    "print(\"accuracy:\",accuracy_score)"
   ]
  },
  {
   "cell_type": "code",
   "execution_count": null,
   "metadata": {},
   "outputs": [],
   "source": []
  }
 ],
 "metadata": {
  "kernelspec": {
   "display_name": "Python 3",
   "language": "python",
   "name": "python3"
  },
  "language_info": {
   "codemirror_mode": {
    "name": "ipython",
    "version": 3
   },
   "file_extension": ".py",
   "mimetype": "text/x-python",
   "name": "python",
   "nbconvert_exporter": "python",
   "pygments_lexer": "ipython3",
   "version": "3.5.4"
  }
 },
 "nbformat": 4,
 "nbformat_minor": 2
}
